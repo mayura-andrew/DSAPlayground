{
  "nbformat": 4,
  "nbformat_minor": 0,
  "metadata": {
    "colab": {
      "provenance": [],
      "include_colab_link": true
    },
    "kernelspec": {
      "name": "python3",
      "display_name": "Python 3"
    },
    "language_info": {
      "name": "python"
    }
  },
  "cells": [
    {
      "cell_type": "markdown",
      "metadata": {
        "id": "view-in-github",
        "colab_type": "text"
      },
      "source": [
        "<a href=\"https://colab.research.google.com/github/mayura-andrew/Data-Structures-and-Algorithms/blob/main/DataStructures%26%26AlgorithmsinPython.ipynb\" target=\"_parent\"><img src=\"https://colab.research.google.com/assets/colab-badge.svg\" alt=\"Open In Colab\"/></a>"
      ]
    },
    {
      "cell_type": "code",
      "execution_count": null,
      "metadata": {
        "colab": {
          "base_uri": "https://localhost:8080/"
        },
        "id": "QH7RsxEwKPDR",
        "outputId": "c6cff98e-0bd8-4d7b-9778-fac793d7e479"
      },
      "outputs": [
        {
          "output_type": "stream",
          "name": "stdout",
          "text": [
            "Hello world\n"
          ]
        }
      ],
      "source": [
        "print(\"Hello world\")"
      ]
    },
    {
      "cell_type": "markdown",
      "source": [
        "**Lexical Scope**\n",
        "\n",
        "Lexical scope is a fundamental concept in programming languages that determines the visibility and accessibility of variables and functions within a program. It refers to the area where an item (such as a function or variable) is defined and accessible to other code. In other words, lexical scope is the definition area of an expression, which is the place where the item was created[1][2][4].\n",
        "\n",
        "### Python\n",
        "In Python, lexical scope is implemented using a concept called \"dynamic scoping.\" This means that the scope of a variable is determined at runtime, not at compile time. Variables are looked up in the current scope and then in the parent scopes until the global scope is reached. This allows for nested functions to access variables from their outer scopes[2][5].\n",
        "\n",
        "### Go\n",
        "In Go, lexical scope is implemented using a concept called \"lexical scoping.\" This means that the scope of a variable is determined at compile time, not at runtime. Variables are looked up in the current scope and then in the parent scopes until the global scope is reached. This allows for nested functions to access variables from their outer scopes, but Go does not support hoisting like JavaScript does[2][5].\n",
        "\n",
        "### Key Points\n",
        "- **Lexical scope** refers to the area where an item is defined and accessible to other code.\n",
        "- **Scope chain** refers to the unique spaces that exist from the scope where a variable was called to the global scope.\n",
        "- **Lexical** refers to the definition of things, such as creating words, expressions, or variables.\n",
        "- **Static scope** is another name for lexical scope, indicating that the scope is determined at compile time.\n",
        "- **Dynamic scope** is the opposite of lexical scope, where the scope is determined at runtime.\n",
        "\n",
        "### Examples\n",
        "- **Python**:\n",
        "  ```python\n",
        "  def outer():\n",
        "      x = 1\n",
        "      def inner():\n",
        "          print(x)\n",
        "      inner()\n",
        "  outer()\n",
        "  ```\n",
        "\n",
        "  In this example, `inner` can access `x` from its outer scope.\n",
        "\n",
        "- **Go**:\n",
        "  ```go\n",
        "  package main\n",
        "\n",
        "  import \"fmt\"\n",
        "\n",
        "  func main() {\n",
        "      var a int = 1\n",
        "      func inner() {\n",
        "          fmt.Println(a)\n",
        "      }\n",
        "      inner()\n",
        "  }\n",
        "  ```\n",
        "\n",
        "  In this example, `inner` can access `a` from its outer scope.\n",
        "\n",
        "### Conclusion\n",
        "Lexical scope is a crucial concept in programming languages that determines the visibility and accessibility of variables and functions within a program. Python and Go both implement lexical scope, but with different approaches. Understanding lexical scope is essential for writing efficient and effective code in these languages.\n",
        "\n",
        "Citations:\n",
        "[1] https://www.freecodecamp.org/news/javascript-lexical-scope-tutorial/\n",
        "[2] https://twishasaraiya.github.io/_learngo/lexical-scope/\n",
        "[3] https://stackoverflow.com/questions/2384157/how-is-lexical-scoping-implemented\n",
        "[4] https://chifi.dev/what-on-earth-is-lexical-scoping-8381fb8b8966?gi=9cd030868fa4\n",
        "[5] https://en.wikipedia.org/wiki/Scope_%28computer_science%29"
      ],
      "metadata": {
        "id": "j41gLn8qKbiZ"
      }
    },
    {
      "cell_type": "markdown",
      "source": [
        "** Problem **\n",
        "https://leetcode.com/problems/find-first-and-last-position-of-element-in-sorted-array/description/\n",
        "\n",
        "34. Find First and Last Position of Element in Sorted Array\n",
        "Medium\n",
        "\n",
        "Given an array of integers nums sorted in non-decreasing order, find the starting and ending position of a given target value.\n",
        "\n",
        "If target is not found in the array, return [-1, -1].\n",
        "\n",
        "You must write an algorithm with O(log n) runtime complexity.\n",
        "\n",
        "Example 1:\n",
        "\n",
        "Input: nums = [5,7,7,8,8,10], target = 8\n",
        "Output: [3,4]\n",
        "\n",
        "Example 2:\n",
        "\n",
        "Input: nums = [5,7,7,8,8,10], target = 6\n",
        "Output: [-1,-1]\n",
        "\n",
        "Example 3:\n",
        "\n",
        "Input: nums = [], target = 0\n",
        "Output: [-1,-1]\n"
      ],
      "metadata": {
        "id": "q3yyek4cO3mJ"
      }
    },
    {
      "cell_type": "code",
      "source": [
        "def binary_search(low, high, condition):\n",
        "  while low <= high:\n",
        "    mid = (low + high) // 2\n",
        "    result = condition(mid)\n",
        "    if result == 'found':\n",
        "      return mid\n",
        "    elif result == 'left':\n",
        "      high =  mid - 1\n",
        "    else:\n",
        "      low = mid + 1\n",
        "  return -1\n",
        "\n",
        "def first_position(nums, target):\n",
        "  def condition(mid):\n",
        "    if nums[mid] == target:\n",
        "      if mid > 0 and nums[mid-1] == target:\n",
        "        return 'left'\n",
        "      return 'found'\n",
        "    elif nums[mid] < target:\n",
        "      return 'right'\n",
        "    else:\n",
        "      return 'left'\n",
        "  return binary_search(0, len(nums)-1, condition)\n",
        "\n",
        "def last_position(nums, target):\n",
        "  def condition(mid):\n",
        "    if nums[mid] == target:\n",
        "      if mid == len(nums)-1 or nums[mid+1] != target:\n",
        "        return 'found'\n",
        "      return 'right'\n",
        "    elif nums[mid] < target:\n",
        "      return 'right'\n",
        "    else:\n",
        "      return 'left'\n",
        "  return binary_search(0, len(nums)-1, condition)\n",
        "\n",
        "def first_and_last_position(nums, target):\n",
        "  return [first_position(nums, target), last_position(nums, target)]\n",
        "\n",
        "\n",
        "\n"
      ],
      "metadata": {
        "id": "RPG9Nb8VKZij"
      },
      "execution_count": null,
      "outputs": []
    },
    {
      "cell_type": "markdown",
      "source": [
        "## 01 Problem - Rotated Lists\n",
        "\n",
        "We'll solve the following problem step-by-step:\n",
        "\n",
        "> You are given list of numbers, obtained by rotating a sorted list an unknown number of times. Write a function to determine the minimum number of times the original sorted list was rotated to obtain the given list. Your function should have the worst-case complexity of `O(log N)`, where N is the length of the list. You can assume that all the numbers in the list are unique.\n",
        ">\n",
        "> Example: The list `[5, 6, 9, 0, 2, 3, 4]` was obtained by rotating the sorted list `[0, 2, 3, 4, 5, 6, 9]` 3 times.\n",
        ">\n",
        "> We define \"rotating a list\" as removing the last element of the list and adding it before the first element. E.g. rotating the list `[3, 2, 4, 1]` produces `[1, 3, 2, 4]`.\n",
        ">\n",
        ">\"Sorted list\" refers to a list where the elements are arranged in the increasing order  e.g. `[1, 3, 5, 7]`.\n",
        ">"
      ],
      "metadata": {
        "id": "8hyNQgUs1BN1"
      }
    },
    {
      "cell_type": "markdown",
      "source": [
        "# __str__ and __repr__\n",
        "\n",
        "The purpose of defining `__str__` and `__repr__` within a class in Python is to provide a string representation of the object. These functions are used by Python to convert the object into a string when it is printed or converted to a string using the `str()` function.\n",
        "\n",
        "### `__str__` Function\n",
        "The `__str__` function is used to provide a human-readable string representation of the object. This function should return a string that is easy to read and understand. It is typically used when you want to print the object directly or convert it to a string using the `str()` function.\n",
        "\n",
        "### `__repr__` Function\n",
        "The `__repr__` function is used to provide a string representation of the object that is more suitable for debugging and logging purposes. This function should return a string that is a valid Python expression and can be used to recreate the object. It is typically used when you want to log or debug the object.\n",
        "\n",
        "### Key Differences\n",
        "- **Purpose**:\n",
        "  - `__str__`: Provides a human-readable string representation of the object.\n",
        "  - `__repr__`: Provides a string representation of the object that is more suitable for debugging and logging.\n",
        "- **Return Value**:\n",
        "  - `__str__`: Returns a string that is easy to read and understand.\n",
        "  - `__repr__`: Returns a string that is a valid Python expression and can be used to recreate the object.\n",
        "- **Usage**:\n",
        "  - `__str__`: Used when you want to print the object directly or convert it to a string using the `str()` function.\n",
        "  - `__repr__`: Used when you want to log or debug the object.\n",
        "\n",
        "### Example\n",
        "```python\n",
        "class Person:\n",
        "    def __init__(self, name, age):\n",
        "        self.name = name\n",
        "        self.age = age\n",
        "\n",
        "    def __str__(self):\n",
        "        return f\"{self.name} is {self.age} years old.\"\n",
        "\n",
        "    def __repr__(self):\n",
        "        return f\"Person('{self.name}', {self.age})\"\n",
        "\n",
        "person = Person(\"John\", 30)\n",
        "print(person)  # Output: John is 30 years old.\n",
        "print(str(person))  # Output: John is 30 years old.\n",
        "print(repr(person))  # Output: Person('John', 30)\n",
        "```\n",
        "In this example, `__str__` provides a human-readable string representation of the `Person` object, while `__repr__` provides a string representation that can be used to recreate the object.\n",
        "\n",
        "Citations:\n",
        "[1] https://www.tutorialspoint.com/cplusplus/cpp_class_member_functions.htm\n",
        "[2] https://www.gamry.com/Framework%20Help/HTML5%20-%20Tripane%20-%20Audience%20A/Content/FW/Explain_Experimental_Control_Language/Class%20Functions%20and%20Instance%20Functions.htm\n",
        "[3] https://byjus.com/maths/what-is-a-function/\n",
        "[4] https://www.geeksforgeeks.org/types-of-functions/\n",
        "[5] https://www.w3schools.com/cpp/cpp_class_methods.asp"
      ],
      "metadata": {
        "id": "bokOU8PI1F97"
      }
    },
    {
      "cell_type": "code",
      "source": [
        "# For Loop\n",
        "\n",
        "for i in range(10):\n",
        "  print(i)\n",
        "\n",
        "# p = [1, 4, 3, 5]\n",
        "# for i = 0; i < len(p); i++:  // not works in python  we have to use 'in' keyword inorder to iterate\n",
        "\n"
      ],
      "metadata": {
        "id": "wNh5bPtRIuCT",
        "colab": {
          "base_uri": "https://localhost:8080/"
        },
        "outputId": "e9925739-055e-49ee-bd01-47e79d273fbc"
      },
      "execution_count": 15,
      "outputs": [
        {
          "output_type": "stream",
          "name": "stdout",
          "text": [
            "0\n",
            "1\n",
            "2\n",
            "3\n",
            "4\n",
            "5\n",
            "6\n",
            "7\n",
            "8\n",
            "9\n"
          ]
        }
      ]
    },
    {
      "cell_type": "code",
      "source": [
        "products = [2, 4, 5, 6, 7, 8, 9, 10]\n",
        "for product in products:\n",
        "  print(product)"
      ],
      "metadata": {
        "colab": {
          "base_uri": "https://localhost:8080/"
        },
        "id": "rQQVyH_UKu5g",
        "outputId": "fa9660d7-3c0a-4c44-bbe5-8d1a83c2800e"
      },
      "execution_count": 14,
      "outputs": [
        {
          "output_type": "stream",
          "name": "stdout",
          "text": [
            "2\n",
            "4\n",
            "5\n",
            "6\n",
            "7\n",
            "8\n",
            "9\n",
            "10\n"
          ]
        }
      ]
    }
  ]
}